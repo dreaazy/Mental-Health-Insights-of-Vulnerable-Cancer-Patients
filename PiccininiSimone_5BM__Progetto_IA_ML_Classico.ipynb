{
  "nbformat": 4,
  "nbformat_minor": 0,
  "metadata": {
    "colab": {
      "provenance": [],
      "authorship_tag": "ABX9TyOEP713bYvxGGnHA6u/pYy/",
      "include_colab_link": true
    },
    "kernelspec": {
      "name": "python3",
      "display_name": "Python 3"
    },
    "language_info": {
      "name": "python"
    }
  },
  "cells": [
    {
      "cell_type": "markdown",
      "metadata": {
        "id": "view-in-github",
        "colab_type": "text"
      },
      "source": [
        "<a href=\"https://colab.research.google.com/github/dreaazy/Mental-Health-Insights-of-Vulnerable-Cancer-Patients/blob/master/PiccininiSimone_5BM__Progetto_IA_ML_Classico.ipynb\" target=\"_parent\"><img src=\"https://colab.research.google.com/assets/colab-badge.svg\" alt=\"Open In Colab\"/></a>"
      ]
    },
    {
      "cell_type": "markdown",
      "source": [
        "![Image Alt Text](https://storage.googleapis.com/kaggle-datasets-images/4224082/7284561/c664ded426284f9b3c2f79b809a7a91d/dataset-cover.jpg?t=2023-12-26-13-58-32)\n",
        "##The aim of this project is to perform sentimental analysis on a dataset containing mental health insights of vulnerable cancer patients.\n",
        "This model is going to do a multi-class classification, to distinguish the emotion that the text transmit, the classes are positive, neutral, negative and very negative.\n",
        "\n",
        "You can find the dataset from this link: [Mental Health Insights](https://www.kaggle.com/datasets/irinhoque/mental-health-insights-vulnerable-cancer-patients).\n",
        "\n",
        "For training this model I used TF-IDF for extracting the features and SVM for training the model.\n",
        "\n"
      ],
      "metadata": {
        "id": "dC5_jAkUKpF2"
      }
    },
    {
      "cell_type": "markdown",
      "source": [
        "#Importing the dataset from github and all the dependecies"
      ],
      "metadata": {
        "id": "5FKA3JrzNHuS"
      }
    },
    {
      "cell_type": "code",
      "source": [
        "# Importing the Support Vector Machine (SVM)\n",
        "from sklearn.svm import SVC\n",
        "# Importing TF-IDF Vectorizer for text data preprocessing\n",
        "from sklearn.feature_extraction.text import TfidfVectorizer\n",
        "# Importing function for splitting the dataset into training and testing sets\n",
        "from sklearn.model_selection import train_test_split\n",
        "# Importing metrics for evaluating the model's performance\n",
        "from sklearn.metrics import accuracy_score, classification_report\n",
        "# Importing pandas for handling and manipulating datasets\n",
        "import pandas as pd\n",
        "\n",
        "#data visualization\n",
        "import matplotlib.pyplot as plt\n",
        "import seaborn as sns\n",
        "from sklearn.metrics import confusion_matrix\n"
      ],
      "metadata": {
        "id": "4AwcM50clR5l"
      },
      "execution_count": 3,
      "outputs": []
    },
    {
      "cell_type": "code",
      "source": [
        "!wget https://raw.githubusercontent.com/dreaazy/Mental-Health-Insights-of-Vulnerable-Cancer-Patients/master/mental_health_dataset.csv\n",
        "\n",
        "# Load the dataset into a Pandas DataFrame\n",
        "df = pd.read_csv('mental_health_dataset.csv')\n"
      ],
      "metadata": {
        "id": "I1yZ3lleILZp",
        "outputId": "9954ad58-a76a-42a3-f745-af55140236ba",
        "colab": {
          "base_uri": "https://localhost:8080/"
        }
      },
      "execution_count": 4,
      "outputs": [
        {
          "output_type": "stream",
          "name": "stdout",
          "text": [
            "--2024-01-07 18:41:38--  https://raw.githubusercontent.com/dreaazy/Mental-Health-Insights-of-Vulnerable-Cancer-Patients/master/mental_health_dataset.csv\n",
            "Resolving raw.githubusercontent.com (raw.githubusercontent.com)... 185.199.108.133, 185.199.111.133, 185.199.110.133, ...\n",
            "Connecting to raw.githubusercontent.com (raw.githubusercontent.com)|185.199.108.133|:443... connected.\n",
            "HTTP request sent, awaiting response... 200 OK\n",
            "Length: 12373753 (12M) [text/plain]\n",
            "Saving to: ‘mental_health_dataset.csv.1’\n",
            "\n",
            "mental_health_datas 100%[===================>]  11.80M  30.9MB/s    in 0.4s    \n",
            "\n",
            "2024-01-07 18:41:39 (30.9 MB/s) - ‘mental_health_dataset.csv.1’ saved [12373753/12373753]\n",
            "\n"
          ]
        }
      ]
    },
    {
      "cell_type": "markdown",
      "source": [
        "# Specify features (X) and target variable for binary classification"
      ],
      "metadata": {
        "id": "WnE2ef10slIb"
      }
    },
    {
      "cell_type": "code",
      "source": [
        "\n",
        "X = df['posts']\n",
        "y_classification = df['predicted']\n",
        "\n",
        "# Split the dataset into training and testing sets\n",
        "X_train, X_test, y_train_classification, y_test_classification = train_test_split(X, y_classification, test_size=0.2, random_state=42)"
      ],
      "metadata": {
        "id": "dNrAeufhllwK"
      },
      "execution_count": 5,
      "outputs": []
    },
    {
      "cell_type": "markdown",
      "source": [
        "# Vectorizer\n",
        "\n",
        "> It's a technique to extract features from text in my dataset. Without it, it wouldn't be possible to utilize SVM for binary classification.\n",
        "\n",
        "\n",
        "\n",
        "##**Term frequency:** Measures how frequently a term (word) occurs in a document.\n",
        "##**Inverse Document Frequency:** Measures the importance of a term across a collection of documents.\n",
        "![Image Alt Text](https://www.kdnuggets.com/wp-content/uploads/awan_convert_text_documents_tfidf_matrix_tfidfvectorizer_3.png)\n",
        "\n",
        "\n"
      ],
      "metadata": {
        "id": "SPPDX8HqmBcD"
      }
    },
    {
      "cell_type": "code",
      "source": [
        "\n",
        "# Handle missing values in the 'posts' column to avoid problems in the elaboration of data\n",
        "df['posts'] = df['posts'].fillna('')\n",
        "\n",
        "# Specify features (X) and target variable for binary classification\n",
        "X = df['posts']\n",
        "y_classification = df['predicted']\n",
        "\n",
        "# Split the dataset into training and testing sets\n",
        "X_train, X_test, y_train_classification, y_test_classification = train_test_split(X, y_classification, test_size=0.2, random_state=42)\n",
        "\n",
        "# TF-IDF Vectorization\n",
        "vectorizer = TfidfVectorizer(token_pattern=r'\\b[a-zA-Z]+\\b')  # Remove non-alphabetic words from the vocabulary\n",
        "\n",
        "# Handle missing values in the training and testing sets\n",
        "X_train = X_train.fillna('')\n",
        "X_test = X_test.fillna('')\n",
        "\n",
        "\n",
        "#in this line of code I'm going to fit the vectorizer on the training data (X_train) and transform it into a TF-IDF matrix.\n",
        "X_train_tfidf = vectorizer.fit_transform(X_train)\n",
        "#this line is used to apply the vocabulary learned during the fitting process to the test data (X_test), transforming it into a TF-IDF matrix.\n",
        "X_test_tfidf = vectorizer.transform(X_test)\n",
        "\n",
        "# Convert TF-IDF matrices to DataFrames\n",
        "df_train_tfidf = pd.DataFrame(X_train_tfidf.toarray(), columns=vectorizer.get_feature_names_out())\n",
        "df_test_tfidf = pd.DataFrame(X_test_tfidf.toarray(), columns=vectorizer.get_feature_names_out())\n",
        "\n",
        "# rows of the matrix that are going to display\n",
        "num_rows_to_display = 10\n",
        "\n",
        "print(f\"TF-IDF Matrix for Training Data (First {num_rows_to_display} rows):\")\n",
        "print(df_train_tfidf.head(num_rows_to_display))\n",
        "\n",
        "print(f\"\\nTF-IDF Matrix for Testing Data (First {num_rows_to_display} rows):\")\n",
        "print(df_test_tfidf.head(num_rows_to_display))\n"
      ],
      "metadata": {
        "colab": {
          "base_uri": "https://localhost:8080/"
        },
        "id": "oCF_xTsRmz6_",
        "outputId": "cc976435-2213-45c3-dcb8-a473806bcd57"
      },
      "execution_count": 6,
      "outputs": [
        {
          "output_type": "stream",
          "name": "stdout",
          "text": [
            "TF-IDF Matrix for Training Data (First 10 rows):\n",
            "          a   aa  aaa  aaaaaaaaaaaaaahhhhhhhhhhhhh  aaah  aaand  aaarggghhh  \\\n",
            "0  0.068279  0.0  0.0                          0.0   0.0    0.0         0.0   \n",
            "1  0.160854  0.0  0.0                          0.0   0.0    0.0         0.0   \n",
            "2  0.000000  0.0  0.0                          0.0   0.0    0.0         0.0   \n",
            "3  0.127312  0.0  0.0                          0.0   0.0    0.0         0.0   \n",
            "4  0.000000  0.0  0.0                          0.0   0.0    0.0         0.0   \n",
            "5  0.096882  0.0  0.0                          0.0   0.0    0.0         0.0   \n",
            "6  0.112266  0.0  0.0                          0.0   0.0    0.0         0.0   \n",
            "7  0.045789  0.0  0.0                          0.0   0.0    0.0         0.0   \n",
            "8  0.065502  0.0  0.0                          0.0   0.0    0.0         0.0   \n",
            "9  0.053802  0.0  0.0                          0.0   0.0    0.0         0.0   \n",
            "\n",
            "   aaarggharoooooo  aabb  aah  ...  zpack  zpak  zucchinni   zw  zyban  \\\n",
            "0              0.0   0.0  0.0  ...    0.0   0.0        0.0  0.0    0.0   \n",
            "1              0.0   0.0  0.0  ...    0.0   0.0        0.0  0.0    0.0   \n",
            "2              0.0   0.0  0.0  ...    0.0   0.0        0.0  0.0    0.0   \n",
            "3              0.0   0.0  0.0  ...    0.0   0.0        0.0  0.0    0.0   \n",
            "4              0.0   0.0  0.0  ...    0.0   0.0        0.0  0.0    0.0   \n",
            "5              0.0   0.0  0.0  ...    0.0   0.0        0.0  0.0    0.0   \n",
            "6              0.0   0.0  0.0  ...    0.0   0.0        0.0  0.0    0.0   \n",
            "7              0.0   0.0  0.0  ...    0.0   0.0        0.0  0.0    0.0   \n",
            "8              0.0   0.0  0.0  ...    0.0   0.0        0.0  0.0    0.0   \n",
            "9              0.0   0.0  0.0  ...    0.0   0.0        0.0  0.0    0.0   \n",
            "\n",
            "   zyprexa   zz  zzx  zzzzzzz  zzzzzzzzzz  \n",
            "0      0.0  0.0  0.0      0.0         0.0  \n",
            "1      0.0  0.0  0.0      0.0         0.0  \n",
            "2      0.0  0.0  0.0      0.0         0.0  \n",
            "3      0.0  0.0  0.0      0.0         0.0  \n",
            "4      0.0  0.0  0.0      0.0         0.0  \n",
            "5      0.0  0.0  0.0      0.0         0.0  \n",
            "6      0.0  0.0  0.0      0.0         0.0  \n",
            "7      0.0  0.0  0.0      0.0         0.0  \n",
            "8      0.0  0.0  0.0      0.0         0.0  \n",
            "9      0.0  0.0  0.0      0.0         0.0  \n",
            "\n",
            "[10 rows x 32112 columns]\n",
            "\n",
            "TF-IDF Matrix for Testing Data (First 10 rows):\n",
            "          a   aa  aaa  aaaaaaaaaaaaaahhhhhhhhhhhhh  aaah  aaand  aaarggghhh  \\\n",
            "0  0.000000  0.0  0.0                          0.0   0.0    0.0         0.0   \n",
            "1  0.094238  0.0  0.0                          0.0   0.0    0.0         0.0   \n",
            "2  0.054905  0.0  0.0                          0.0   0.0    0.0         0.0   \n",
            "3  0.083322  0.0  0.0                          0.0   0.0    0.0         0.0   \n",
            "4  0.000000  0.0  0.0                          0.0   0.0    0.0         0.0   \n",
            "5  0.034218  0.0  0.0                          0.0   0.0    0.0         0.0   \n",
            "6  0.095099  0.0  0.0                          0.0   0.0    0.0         0.0   \n",
            "7  0.028011  0.0  0.0                          0.0   0.0    0.0         0.0   \n",
            "8  0.037286  0.0  0.0                          0.0   0.0    0.0         0.0   \n",
            "9  0.146969  0.0  0.0                          0.0   0.0    0.0         0.0   \n",
            "\n",
            "   aaarggharoooooo  aabb  aah  ...  zpack  zpak  zucchinni   zw  zyban  \\\n",
            "0              0.0   0.0  0.0  ...    0.0   0.0        0.0  0.0    0.0   \n",
            "1              0.0   0.0  0.0  ...    0.0   0.0        0.0  0.0    0.0   \n",
            "2              0.0   0.0  0.0  ...    0.0   0.0        0.0  0.0    0.0   \n",
            "3              0.0   0.0  0.0  ...    0.0   0.0        0.0  0.0    0.0   \n",
            "4              0.0   0.0  0.0  ...    0.0   0.0        0.0  0.0    0.0   \n",
            "5              0.0   0.0  0.0  ...    0.0   0.0        0.0  0.0    0.0   \n",
            "6              0.0   0.0  0.0  ...    0.0   0.0        0.0  0.0    0.0   \n",
            "7              0.0   0.0  0.0  ...    0.0   0.0        0.0  0.0    0.0   \n",
            "8              0.0   0.0  0.0  ...    0.0   0.0        0.0  0.0    0.0   \n",
            "9              0.0   0.0  0.0  ...    0.0   0.0        0.0  0.0    0.0   \n",
            "\n",
            "   zyprexa   zz  zzx  zzzzzzz  zzzzzzzzzz  \n",
            "0      0.0  0.0  0.0      0.0         0.0  \n",
            "1      0.0  0.0  0.0      0.0         0.0  \n",
            "2      0.0  0.0  0.0      0.0         0.0  \n",
            "3      0.0  0.0  0.0      0.0         0.0  \n",
            "4      0.0  0.0  0.0      0.0         0.0  \n",
            "5      0.0  0.0  0.0      0.0         0.0  \n",
            "6      0.0  0.0  0.0      0.0         0.0  \n",
            "7      0.0  0.0  0.0      0.0         0.0  \n",
            "8      0.0  0.0  0.0      0.0         0.0  \n",
            "9      0.0  0.0  0.0      0.0         0.0  \n",
            "\n",
            "[10 rows x 32112 columns]\n"
          ]
        }
      ]
    },
    {
      "cell_type": "markdown",
      "source": [
        "##If you want to analyze the words more thoroughly that we are going to work on, executing this cell will save you a text file with all the words that we are going to include in the model for binary classification."
      ],
      "metadata": {
        "id": "24xE8Mv0EbH_"
      }
    },
    {
      "cell_type": "code",
      "source": [
        "# Save the vocabulary to a text file\n",
        "with open('vocabulary.txt', 'w') as file:\n",
        "    for word in vectorizer.get_feature_names_out():\n",
        "        file.write(word + '\\n')\n",
        "\n",
        "print(\"Vocabulary saved to 'vocabulary.txt'\")"
      ],
      "metadata": {
        "id": "TP7w_3QArCCf",
        "outputId": "a116323d-1817-4e76-a804-38a5175fbea5",
        "colab": {
          "base_uri": "https://localhost:8080/"
        }
      },
      "execution_count": 7,
      "outputs": [
        {
          "output_type": "stream",
          "name": "stdout",
          "text": [
            "Vocabulary saved to 'vocabulary.txt'\n"
          ]
        }
      ]
    },
    {
      "cell_type": "markdown",
      "source": [
        "#Instantiate SVM model for classification:"
      ],
      "metadata": {
        "id": "ss1P3qhgqSe_"
      }
    },
    {
      "cell_type": "code",
      "source": [
        "svm_classifier = SVC(kernel='linear')"
      ],
      "metadata": {
        "id": "avfUsru0qNdn"
      },
      "execution_count": 13,
      "outputs": []
    },
    {
      "cell_type": "markdown",
      "source": [
        "#Fit the SVM model with training data:"
      ],
      "metadata": {
        "id": "ryGjKmwlqUpT"
      }
    },
    {
      "cell_type": "code",
      "source": [
        "\n",
        "svm_classifier.fit(X_train_tfidf, y_train_classification)\n"
      ],
      "metadata": {
        "colab": {
          "base_uri": "https://localhost:8080/",
          "height": 75
        },
        "id": "vRemmcZ2dJSY",
        "outputId": "2947c178-ef68-47f6-c7a3-5ff5647a3b27"
      },
      "execution_count": 14,
      "outputs": [
        {
          "output_type": "execute_result",
          "data": {
            "text/plain": [
              "SVC(kernel='linear')"
            ],
            "text/html": [
              "<style>#sk-container-id-2 {color: black;background-color: white;}#sk-container-id-2 pre{padding: 0;}#sk-container-id-2 div.sk-toggleable {background-color: white;}#sk-container-id-2 label.sk-toggleable__label {cursor: pointer;display: block;width: 100%;margin-bottom: 0;padding: 0.3em;box-sizing: border-box;text-align: center;}#sk-container-id-2 label.sk-toggleable__label-arrow:before {content: \"▸\";float: left;margin-right: 0.25em;color: #696969;}#sk-container-id-2 label.sk-toggleable__label-arrow:hover:before {color: black;}#sk-container-id-2 div.sk-estimator:hover label.sk-toggleable__label-arrow:before {color: black;}#sk-container-id-2 div.sk-toggleable__content {max-height: 0;max-width: 0;overflow: hidden;text-align: left;background-color: #f0f8ff;}#sk-container-id-2 div.sk-toggleable__content pre {margin: 0.2em;color: black;border-radius: 0.25em;background-color: #f0f8ff;}#sk-container-id-2 input.sk-toggleable__control:checked~div.sk-toggleable__content {max-height: 200px;max-width: 100%;overflow: auto;}#sk-container-id-2 input.sk-toggleable__control:checked~label.sk-toggleable__label-arrow:before {content: \"▾\";}#sk-container-id-2 div.sk-estimator input.sk-toggleable__control:checked~label.sk-toggleable__label {background-color: #d4ebff;}#sk-container-id-2 div.sk-label input.sk-toggleable__control:checked~label.sk-toggleable__label {background-color: #d4ebff;}#sk-container-id-2 input.sk-hidden--visually {border: 0;clip: rect(1px 1px 1px 1px);clip: rect(1px, 1px, 1px, 1px);height: 1px;margin: -1px;overflow: hidden;padding: 0;position: absolute;width: 1px;}#sk-container-id-2 div.sk-estimator {font-family: monospace;background-color: #f0f8ff;border: 1px dotted black;border-radius: 0.25em;box-sizing: border-box;margin-bottom: 0.5em;}#sk-container-id-2 div.sk-estimator:hover {background-color: #d4ebff;}#sk-container-id-2 div.sk-parallel-item::after {content: \"\";width: 100%;border-bottom: 1px solid gray;flex-grow: 1;}#sk-container-id-2 div.sk-label:hover label.sk-toggleable__label {background-color: #d4ebff;}#sk-container-id-2 div.sk-serial::before {content: \"\";position: absolute;border-left: 1px solid gray;box-sizing: border-box;top: 0;bottom: 0;left: 50%;z-index: 0;}#sk-container-id-2 div.sk-serial {display: flex;flex-direction: column;align-items: center;background-color: white;padding-right: 0.2em;padding-left: 0.2em;position: relative;}#sk-container-id-2 div.sk-item {position: relative;z-index: 1;}#sk-container-id-2 div.sk-parallel {display: flex;align-items: stretch;justify-content: center;background-color: white;position: relative;}#sk-container-id-2 div.sk-item::before, #sk-container-id-2 div.sk-parallel-item::before {content: \"\";position: absolute;border-left: 1px solid gray;box-sizing: border-box;top: 0;bottom: 0;left: 50%;z-index: -1;}#sk-container-id-2 div.sk-parallel-item {display: flex;flex-direction: column;z-index: 1;position: relative;background-color: white;}#sk-container-id-2 div.sk-parallel-item:first-child::after {align-self: flex-end;width: 50%;}#sk-container-id-2 div.sk-parallel-item:last-child::after {align-self: flex-start;width: 50%;}#sk-container-id-2 div.sk-parallel-item:only-child::after {width: 0;}#sk-container-id-2 div.sk-dashed-wrapped {border: 1px dashed gray;margin: 0 0.4em 0.5em 0.4em;box-sizing: border-box;padding-bottom: 0.4em;background-color: white;}#sk-container-id-2 div.sk-label label {font-family: monospace;font-weight: bold;display: inline-block;line-height: 1.2em;}#sk-container-id-2 div.sk-label-container {text-align: center;}#sk-container-id-2 div.sk-container {/* jupyter's `normalize.less` sets `[hidden] { display: none; }` but bootstrap.min.css set `[hidden] { display: none !important; }` so we also need the `!important` here to be able to override the default hidden behavior on the sphinx rendered scikit-learn.org. See: https://github.com/scikit-learn/scikit-learn/issues/21755 */display: inline-block !important;position: relative;}#sk-container-id-2 div.sk-text-repr-fallback {display: none;}</style><div id=\"sk-container-id-2\" class=\"sk-top-container\"><div class=\"sk-text-repr-fallback\"><pre>SVC(kernel=&#x27;linear&#x27;)</pre><b>In a Jupyter environment, please rerun this cell to show the HTML representation or trust the notebook. <br />On GitHub, the HTML representation is unable to render, please try loading this page with nbviewer.org.</b></div><div class=\"sk-container\" hidden><div class=\"sk-item\"><div class=\"sk-estimator sk-toggleable\"><input class=\"sk-toggleable__control sk-hidden--visually\" id=\"sk-estimator-id-2\" type=\"checkbox\" checked><label for=\"sk-estimator-id-2\" class=\"sk-toggleable__label sk-toggleable__label-arrow\">SVC</label><div class=\"sk-toggleable__content\"><pre>SVC(kernel=&#x27;linear&#x27;)</pre></div></div></div></div></div>"
            ]
          },
          "metadata": {},
          "execution_count": 14
        }
      ]
    },
    {
      "cell_type": "markdown",
      "source": [
        "#Make predictions on the testing data:\n"
      ],
      "metadata": {
        "id": "bVUx8KD5qe2S"
      }
    },
    {
      "cell_type": "code",
      "source": [
        "# Predictions for binary classification\n",
        "y_pred_classification = svm_classifier.predict(X_test_tfidf)"
      ],
      "metadata": {
        "id": "MYHdx1b6qhPg"
      },
      "execution_count": 15,
      "outputs": []
    },
    {
      "cell_type": "markdown",
      "source": [
        "#Evaluate the model performance:"
      ],
      "metadata": {
        "id": "tndwIAZEqvrM"
      }
    },
    {
      "cell_type": "code",
      "source": [
        "accuracy_classification = accuracy_score(y_test_classification, y_pred_classification)\n",
        "classification_report_classification = classification_report(y_test_classification, y_pred_classification)\n",
        "\n",
        "print(f'Accuracy for Binary Classification: {accuracy_classification}')\n",
        "print('Classification Report for Binary Classification:\\n', classification_report_classification)"
      ],
      "metadata": {
        "colab": {
          "base_uri": "https://localhost:8080/"
        },
        "id": "jhGT9LsPqw55",
        "outputId": "8f96e0a6-bd11-458a-8058-a98d18e5233e"
      },
      "execution_count": 16,
      "outputs": [
        {
          "output_type": "stream",
          "name": "stdout",
          "text": [
            "Accuracy for Binary Classification: 0.7527657527657527\n",
            "Classification Report for Binary Classification:\n",
            "                precision    recall  f1-score   support\n",
            "\n",
            "     negative       0.69      0.79      0.74       793\n",
            "      neutral       0.83      0.81      0.82       905\n",
            "     positive       0.66      0.33      0.44       128\n",
            "very negative       0.73      0.68      0.70       253\n",
            "\n",
            "     accuracy                           0.75      2079\n",
            "    macro avg       0.73      0.65      0.67      2079\n",
            " weighted avg       0.75      0.75      0.75      2079\n",
            "\n"
          ]
        }
      ]
    },
    {
      "cell_type": "code",
      "source": [
        "# Create a confusion matrix\n",
        "conf_matrix = confusion_matrix(y_test_classification, y_pred_classification, labels=df['predicted'].unique())\n",
        "\n",
        "# Plot the confusion matrix as a heatmap\n",
        "plt.figure(figsize=(8, 6))\n",
        "sns.heatmap(conf_matrix, annot=True, fmt='d', cmap='Blues', xticklabels=df['predicted'].unique(), yticklabels=df['predicted'].unique())\n",
        "plt.title('Confusion Matrix')\n",
        "plt.xlabel('Predicted')\n",
        "plt.ylabel('True')\n",
        "plt.show()\n"
      ],
      "metadata": {
        "colab": {
          "base_uri": "https://localhost:8080/",
          "height": 564
        },
        "id": "WBrjwT45jjjz",
        "outputId": "347d7675-1045-4e49-a97f-c2003031094d"
      },
      "execution_count": 17,
      "outputs": [
        {
          "output_type": "display_data",
          "data": {
            "text/plain": [
              "<Figure size 800x600 with 2 Axes>"
            ],
            "image/png": "[encoded data removed]"
          },
          "metadata": {}
        }
      ]
    }
  ]
}